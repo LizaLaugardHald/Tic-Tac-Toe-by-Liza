{
 "cells": [
  {
   "cell_type": "code",
   "execution_count": 1,
   "id": "8228e867",
   "metadata": {},
   "outputs": [],
   "source": [
    "from IPython.display import clear_output\n",
    "\n",
    "\n",
    "def print_horiz_line():\n",
    "    print(\" --- \" * 3)\n",
    "\n",
    "def print_vert_line(vertline, index):\n",
    "    #print(\"|   \"  * (4))\n",
    "    if index == 0:\n",
    "        print(\"|  {} |  {} |  {} |\".format(vertline[index],vertline[index+1],vertline[index+2])) \n",
    "    elif index == 1:\n",
    "        print(\"|  {} |  {} |  {} |\".format(vertline[index+2],vertline[index+3],vertline[index+4])) \n",
    "    elif index == 2:\n",
    "        print(\"|  {} |  {} |  {} |\".format(vertline[index+4],vertline[index+5],vertline[index+6]))\n",
    "        \n",
    "\n",
    "def display_board(board_in):\n",
    "    for index in range(3):\n",
    "        print_horiz_line()\n",
    "        print_vert_line(board_in, index)\n",
    "    print_horiz_line()\n",
    "    "
   ]
  },
  {
   "cell_type": "code",
   "execution_count": 2,
   "id": "1f864515",
   "metadata": {},
   "outputs": [
    {
     "name": "stdout",
     "output_type": "stream",
     "text": [
      " ---  ---  --- \n",
      "|    |    |    |\n",
      " ---  ---  --- \n",
      "|    |    |    |\n",
      " ---  ---  --- \n",
      "|    |    |    |\n",
      " ---  ---  --- \n"
     ]
    }
   ],
   "source": [
    "test_board = [' ',' ',' ',' ',' ',' ',' ',' ',' ']\n",
    "display_board(test_board)"
   ]
  },
  {
   "cell_type": "code",
   "execution_count": 3,
   "id": "a68bfac7",
   "metadata": {},
   "outputs": [],
   "source": [
    "def player_input():\n",
    "    return input('X or O? ')"
   ]
  },
  {
   "cell_type": "code",
   "execution_count": 4,
   "id": "67d10569",
   "metadata": {},
   "outputs": [
    {
     "name": "stdout",
     "output_type": "stream",
     "text": [
      "X or O? X\n"
     ]
    },
    {
     "data": {
      "text/plain": [
       "'X'"
      ]
     },
     "execution_count": 4,
     "metadata": {},
     "output_type": "execute_result"
    }
   ],
   "source": [
    "player_input()"
   ]
  },
  {
   "cell_type": "code",
   "execution_count": 5,
   "id": "e1618cb1",
   "metadata": {},
   "outputs": [],
   "source": [
    "def place_marker(board, marker, position):\n",
    "    board[position-1] = marker "
   ]
  },
  {
   "cell_type": "code",
   "execution_count": 6,
   "id": "c6f8abe0",
   "metadata": {},
   "outputs": [
    {
     "name": "stdout",
     "output_type": "stream",
     "text": [
      " ---  ---  --- \n",
      "|    |    |    |\n",
      " ---  ---  --- \n",
      "|    |    |    |\n",
      " ---  ---  --- \n",
      "|    |  X |    |\n",
      " ---  ---  --- \n"
     ]
    }
   ],
   "source": [
    "place_marker(test_board,'X',8)\n",
    "display_board(test_board)"
   ]
  },
  {
   "cell_type": "code",
   "execution_count": 7,
   "id": "b17d8ca5",
   "metadata": {},
   "outputs": [],
   "source": [
    "def win_check(board, mark):\n",
    "    return(\n",
    "        (board[6] == mark and board[7] == mark and board[8] == mark) or\n",
    "        (board[3] == mark and board[4] == mark and board[5] == mark) or\n",
    "        (board[0] == mark and board[1] == mark and board[2] == mark) or\n",
    "\n",
    "        (board[6] == mark and board[3] == mark and board[0] == mark) or\n",
    "        (board[7] == mark and board[4] == mark and board[1] == mark) or\n",
    "        (board[8] == mark and board[5] == mark and board[2] == mark) or\n",
    "\n",
    "        (board[0] == mark and board[4] == mark and board[8] == mark) or\n",
    "        (board[6] == mark and board[4] == mark and board[2] == mark)\n",
    "        )\n"
   ]
  },
  {
   "cell_type": "code",
   "execution_count": 8,
   "id": "d44b2434",
   "metadata": {},
   "outputs": [
    {
     "data": {
      "text/plain": [
       "False"
      ]
     },
     "execution_count": 8,
     "metadata": {},
     "output_type": "execute_result"
    }
   ],
   "source": [
    "win_check(test_board,'X')"
   ]
  },
  {
   "cell_type": "code",
   "execution_count": 9,
   "id": "67b646e1",
   "metadata": {},
   "outputs": [
    {
     "data": {
      "text/plain": [
       "2"
      ]
     },
     "execution_count": 9,
     "metadata": {},
     "output_type": "execute_result"
    }
   ],
   "source": [
    "import random\n",
    "\n",
    "def choose_first():\n",
    "    if random.randint(0,1) == 0:\n",
    "        return 1\n",
    "    else:\n",
    "        return 2\n",
    "\n",
    "choose_first()"
   ]
  },
  {
   "cell_type": "code",
   "execution_count": 10,
   "id": "14165b6d",
   "metadata": {},
   "outputs": [],
   "source": [
    "def space_check(board, position):\n",
    "    return board[position-1] == ' '"
   ]
  },
  {
   "cell_type": "code",
   "execution_count": 11,
   "id": "20a10916",
   "metadata": {},
   "outputs": [],
   "source": [
    "def full_board_check(board):\n",
    "    for i in board:\n",
    "        if i == ' ':\n",
    "            return False\n",
    "        \n",
    "    return True"
   ]
  },
  {
   "cell_type": "code",
   "execution_count": 12,
   "id": "6aeef657",
   "metadata": {},
   "outputs": [
    {
     "name": "stdout",
     "output_type": "stream",
     "text": [
      "Choose a number between 1-9: 2\n"
     ]
    },
    {
     "data": {
      "text/plain": [
       "2"
      ]
     },
     "execution_count": 12,
     "metadata": {},
     "output_type": "execute_result"
    }
   ],
   "source": [
    "def player_choice(board):\n",
    "    player = int(input('Choose a number between 1-9: '))\n",
    "    if space_check(board, player):\n",
    "        return player\n",
    "        \n",
    "player_choice(test_board)"
   ]
  },
  {
   "cell_type": "code",
   "execution_count": 13,
   "id": "c4a6222e",
   "metadata": {},
   "outputs": [
    {
     "name": "stdout",
     "output_type": "stream",
     "text": [
      "Do you want to play again? Enter yes or no.yes\n"
     ]
    },
    {
     "data": {
      "text/plain": [
       "True"
      ]
     },
     "execution_count": 13,
     "metadata": {},
     "output_type": "execute_result"
    }
   ],
   "source": [
    "def replay():\n",
    "    return input('Do you want to play again? Enter yes or no.').lower().startswith('y')\n",
    "\n",
    "replay()"
   ]
  },
  {
   "cell_type": "code",
   "execution_count": null,
   "id": "acb1fc44",
   "metadata": {},
   "outputs": [
    {
     "name": "stdout",
     "output_type": "stream",
     "text": [
      "Welcome to Tic Tac Toe!\n",
      "Are you ready to play? Enter Yes or No.Yes\n",
      "\n",
      "X or O? X\n",
      "Player 2 will go first\n",
      "Player 1 marker: X\n",
      "\n",
      "Player 2 marker: O\n",
      "\n",
      " ---  ---  --- \n",
      "|    |    |    |\n",
      " ---  ---  --- \n",
      "|    |    |    |\n",
      " ---  ---  --- \n",
      "|    |    |    |\n",
      " ---  ---  --- \n",
      "Choose a number between 1-9: 1\n",
      " ---  ---  --- \n",
      "|  O |    |    |\n",
      " ---  ---  --- \n",
      "|    |    |    |\n",
      " ---  ---  --- \n",
      "|    |    |    |\n",
      " ---  ---  --- \n",
      "Choose a number between 1-9: 2\n",
      " ---  ---  --- \n",
      "|  O |  X |    |\n",
      " ---  ---  --- \n",
      "|    |    |    |\n",
      " ---  ---  --- \n",
      "|    |    |    |\n",
      " ---  ---  --- \n",
      "Choose a number between 1-9: 5\n",
      " ---  ---  --- \n",
      "|  O |  X |    |\n",
      " ---  ---  --- \n",
      "|    |  O |    |\n",
      " ---  ---  --- \n",
      "|    |    |    |\n",
      " ---  ---  --- \n",
      "Choose a number between 1-9: 3\n",
      " ---  ---  --- \n",
      "|  O |  X |  X |\n",
      " ---  ---  --- \n",
      "|    |  O |    |\n",
      " ---  ---  --- \n",
      "|    |    |    |\n",
      " ---  ---  --- \n",
      "Choose a number between 1-9: 9\n",
      " ---  ---  --- \n",
      "|  O |  X |  X |\n",
      " ---  ---  --- \n",
      "|    |  O |    |\n",
      " ---  ---  --- \n",
      "|    |    |  O |\n",
      " ---  ---  --- \n",
      "Player 2 has won!\n",
      "Welcome to Tic Tac Toe!\n"
     ]
    }
   ],
   "source": [
    "#2 players should be able to play the game (both sitting at the same computer)\n",
    "#The board should be printed out every time a player makes a move\n",
    "#You should be able to accept input of the player position \n",
    "#and then place a symbol on the board\n",
    "\n",
    "import random\n",
    "\n",
    "def tie_game(board):\n",
    "    tied = True\n",
    "    for x in board:\n",
    "        if x == \" \":\n",
    "            tied = False\n",
    "    return tied \n",
    "            \n",
    "\n",
    "def play_the_game():\n",
    "    print('Welcome to Tic Tac Toe!')\n",
    "    #Reset the board\n",
    "    test_board = [\" \"]*9\n",
    "    \n",
    "    play_game = input('Are you ready to play? Enter Yes or No.')\n",
    "\n",
    "    if play_game.lower() == \"yes\":\n",
    "        print(\"\")\n",
    "    else:\n",
    "        return play_the_game()\n",
    "    \n",
    "    player1_marker = player_input()\n",
    "    if player1_marker == 'X':\n",
    "        player2_marker = 'O'\n",
    "    elif player1_marker == 'O':\n",
    "        player2_marker = 'X'\n",
    "\n",
    " \n",
    "    turn = choose_first() \n",
    "    print(\"Player \"+ str(turn) + ' will go first')\n",
    "    \n",
    "    print(\"Player 1 marker: \" + player1_marker + \"\\n\")\n",
    "    print(\"Player 2 marker: \" + player2_marker + \"\\n\")\n",
    "\n",
    "    display_board(test_board)\n",
    "\n",
    "    while True:\n",
    "        if turn == 1:\n",
    "            position = player_choice(test_board)\n",
    "            place_marker(test_board, player1_marker, position)\n",
    "            display_board(test_board)\n",
    "            if win_check(test_board, player1_marker):\n",
    "                print(\"Player 1 has won!\")\n",
    "                play_the_game()\n",
    "            turn = 2\n",
    "        elif turn == 2:\n",
    "            position = player_choice(test_board)\n",
    "            place_marker(test_board, player2_marker, position)\n",
    "            display_board(test_board)\n",
    "            if win_check(test_board, player2_marker):\n",
    "                print(\"Player 2 has won!\")\n",
    "                play_the_game()\n",
    "            turn = 1\n",
    "        if tie_game(test_board):\n",
    "            print(\"The game is tied!\")\n",
    "            play_the_game()\n",
    "            \n",
    "        \n",
    "play_the_game()"
   ]
  },
  {
   "cell_type": "code",
   "execution_count": null,
   "id": "a7ce6417",
   "metadata": {},
   "outputs": [],
   "source": []
  }
 ],
 "metadata": {
  "kernelspec": {
   "display_name": "Python 3 (ipykernel)",
   "language": "python",
   "name": "python3"
  },
  "language_info": {
   "codemirror_mode": {
    "name": "ipython",
    "version": 3
   },
   "file_extension": ".py",
   "mimetype": "text/x-python",
   "name": "python",
   "nbconvert_exporter": "python",
   "pygments_lexer": "ipython3",
   "version": "3.9.12"
  }
 },
 "nbformat": 4,
 "nbformat_minor": 5
}
